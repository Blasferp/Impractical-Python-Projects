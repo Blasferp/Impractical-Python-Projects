{
 "cells": [
  {
   "cell_type": "markdown",
   "metadata": {},
   "source": [
    "***\n",
    "***"
   ]
  },
  {
   "cell_type": "markdown",
   "metadata": {},
   "source": [
    "## - Project #1: \n",
    "### Generating Pseudonyms"
   ]
  },
  {
   "cell_type": "markdown",
   "metadata": {},
   "source": [
    "***the objective:***\n",
    "\n",
    "- Randomly generate funny sidekick names using Python code that conforms to established\n",
    "style guidelines."
   ]
  },
  {
   "cell_type": "markdown",
   "metadata": {},
   "source": [
    "- Load a list of first names.\n",
    "- Load a list of surnames.\n",
    "- Choose a first name at random\n",
    "- Assign the name to a variable\n",
    "- Choose a surname at random\n",
    "- Assign the name to a variable\n",
    "- Print the names to the screen in order and in red font\n",
    "- Ask the user to quit or play again\n",
    "- If user plays again:\n",
    "  repeat\n",
    "- If user quits:\n",
    " end and exit"
   ]
  },
  {
   "cell_type": "code",
   "execution_count": 11,
   "metadata": {},
   "outputs": [],
   "source": [
    "import sys\n",
    "import random"
   ]
  },
  {
   "cell_type": "code",
   "execution_count": 12,
   "metadata": {},
   "outputs": [
    {
     "name": "stdout",
     "output_type": "stream",
     "text": [
      "Welcome to the Psych 'Sidekick Name Picker.'\n",
      "\n",
      "A name just like Sean would pick for Gus:\n",
      "\n",
      "\n"
     ]
    }
   ],
   "source": [
    "print(\"Welcome to the Psych 'Sidekick Name Picker.'\\n\")\n",
    "print(\"A name just like Sean would pick for Gus:\\n\\n\")"
   ]
  },
  {
   "cell_type": "code",
   "execution_count": 13,
   "metadata": {},
   "outputs": [
    {
     "name": "stderr",
     "output_type": "stream",
     "text": [
      "Error: No se proporcionaron datos.\n"
     ]
    }
   ],
   "source": [
    "import sys\n",
    "\n",
    "def procesar_datos(datos):\n",
    "    if not datos:\n",
    "        print(\"Error: No se proporcionaron datos.\", file=sys.stderr)\n",
    "        return\n",
    "    # Procesamiento de datos\n",
    "    print(\"Datos procesados correctamente.\")\n",
    "\n",
    "# Llamada a la función con datos vacíos para mostrar el uso de sys.stderr\n",
    "procesar_datos([])\n"
   ]
  },
  {
   "cell_type": "markdown",
   "metadata": {},
   "source": [
    "***"
   ]
  },
  {
   "cell_type": "markdown",
   "metadata": {},
   "source": [
    "## Practice Projects:"
   ]
  },
  {
   "cell_type": "markdown",
   "metadata": {},
   "source": [
    "### ***Pig Latin***\n",
    "To form Pig Latin, you take an English word that begins with a consonant,\n",
    "move that consonant to the end, and then add “ay” to the end of the word.\n",
    "If the word begins with a vowel, you simply add “way” to the end of the\n",
    "word. One of the most famous Pig Latin phrases of all time is “ixnay on the\n",
    "ottenray,” uttered by Marty Feldman in Mel Brooks’s comedic masterpiece\n",
    "Young Frankenstein.\n",
    "Write a program that takes a word as input and uses indexing and\n",
    "slicing to return its Pig Latin equivalent. Run Pylint and pydocstyle on\n",
    "your code and correct any style mistakes. You can find a solution in the\n",
    "appendix or download pig_latin_practice.py from https://www.nostarch.com/\n",
    "impracticalpython/.\n",
    "\n",
    "\n",
    "Para formar el pig latin, se toma una palabra inglesa que comienza con una consonante,\n",
    "se mueve esa consonante al final y luego se agrega “ay” al final de la palabra.\n",
    "Si la palabra comienza con una vocal, simplemente se agrega “way” al final de la\n",
    "palabra. Una de las frases en pig latin más famosas de todos los tiempos es “ixnay on the\n",
    "ottenray”, pronunciada por Marty Feldman en la obra maestra cómica de Mel Brooks\n",
    "El joven Frankenstein.\n",
    "\n",
    "\n",
    "Escriba un programa que tome una palabra como entrada y utilice indexación y\n",
    "slicing para devolver su equivalente en Pig Latin. Ejecute Pylint y pydocstyle en\n",
    "su código y corrija cualquier error de estilo. Puede encontrar una solución en el\n",
    "apéndice o descargar pig_latin_practice.py desde https://www.nostarch.com/\n",
    "impracticalpython/."
   ]
  },
  {
   "cell_type": "markdown",
   "metadata": {},
   "source": [
    "- input palabra consonante o vocal.\n",
    "- si es consonante agregar la 1 letra al final y agregar ay.\n",
    "-si es vocal solamente ay.\n",
    "- usar indexacion, slicing"
   ]
  },
  {
   "cell_type": "code",
   "execution_count": null,
   "metadata": {},
   "outputs": [],
   "source": [
    "\"\"\"Genera palabras en jeringoso, pero en ingles(Pig Latin)\"\"\"\n",
    "def main():\n",
    "    \"\"\"\n",
    "    Modifica las palabras, si comienzan con vocal agregan 'way',\n",
    "    si comienzan em consonante, envia la primera letra al final y\n",
    "    agrega las letras 'ay'\n",
    "    \"\"\"\n",
    "    print('Bienvenido a Pig Latin')\n",
    "    \n",
    "    # Definimos una variable con las vocales.\n",
    "    vocales = ['a', 'e', 'i', 'o', 'u' ]\n",
    "    \n",
    "    while True:\n",
    "        try:\n",
    "            # Se crea variable ingresada por el usuario en minuscula.\n",
    "            palabra = input('Elije una palabra para transformar en jeringoso').lower()\n",
    "            \n",
    "            \n",
    "             # Verificar si la entrada está vacía\n",
    "            if not palabra:\n",
    "                raise ValueError(\"La entrada no puede estar vacía.\")\n",
    "            \n",
    "            # Verificar si todos los caracteres en la entrada son letras\n",
    "            if not palabra.isalpha():\n",
    "                raise ValueError(\"La entrada debe contener solo letras.\")\n",
    "            \n",
    "            break\n",
    "        \n",
    "        except ValueError as e:\n",
    "            print(f\"Error: {e}. Inténtalo de nuevo.\")\n",
    "\n",
    "    if palabra[0] in vocales:\n",
    "        palabra_jeringoso = palabra + 'way'\n",
    "        return (f'La palabra {palabra} en jeringoso es : {palabra_jeringoso}')\n",
    "    else:\n",
    "        palabra_jeringoso = palabra[1:] + palabra[:1] + 'ay' \n",
    "        return (f'La palabra {palabra} en jeringoso es : {palabra_jeringoso}')\n",
    "    \n",
    "if __name__ == 'main':\n",
    "    main()\n",
    "    "
   ]
  },
  {
   "cell_type": "code",
   "execution_count": null,
   "metadata": {},
   "outputs": [
    {
     "name": "stdout",
     "output_type": "stream",
     "text": [
      "Bienvenido a Pig Latin\n"
     ]
    },
    {
     "data": {
      "text/plain": [
       "'La palabra hola en jeringoso es : olahay'"
      ]
     },
     "execution_count": 35,
     "metadata": {},
     "output_type": "execute_result"
    }
   ],
   "source": [
    "main()"
   ]
  },
  {
   "cell_type": "markdown",
   "metadata": {},
   "source": [
    "### ***Poor Man’s Bar Chart***\n",
    "The six most commonly used letters in the English language can be remembered with the mnemonic “etaoin” (pronounced eh-tay-oh-in). Write a Python\n",
    "script that takes a sentence (string) as input and returns a simple bar chart–\n",
    "type display as in Figure 1-2. Hint: I used a dictionary data structure and two\n",
    "modules that I haven’t covered yet, pprint and collections/defaultdict."
   ]
  },
  {
   "cell_type": "code",
   "execution_count": 9,
   "metadata": {},
   "outputs": [
    {
     "name": "stdout",
     "output_type": "stream",
     "text": [
      "{'a': ['a', 'a', 'a', 'a', 'a', 'a', 'a'],\n",
      " 'b': ['b', 'b'],\n",
      " 'c': ['c', 'c'],\n",
      " 'd': ['d', 'd'],\n",
      " 'e': ['e', 'e', 'e', 'e', 'e', 'e', 'e', 'e', 'e', 'e', 'e', 'e', 'e', 'e', 'e', 'e', 'e'],\n",
      " 'f': ['f'],\n",
      " 'g': ['g'],\n",
      " 'h': ['h', 'h', 'h'],\n",
      " 'i': ['i', 'i', 'i', 'i', 'i', 'i', 'i', 'i'],\n",
      " 'j': ['j'],\n",
      " 'k': ['k'],\n",
      " 'l': ['l', 'l', 'l', 'l', 'l'],\n",
      " 'm': ['m', 'm', 'm'],\n",
      " 'n': ['n', 'n', 'n', 'n'],\n",
      " 'o': ['o', 'o', 'o'],\n",
      " 'r': ['r', 'r', 'r', 'r', 'r', 'r', 'r'],\n",
      " 's': ['s', 's', 's', 's', 's', 's'],\n",
      " 't': ['t', 't', 't', 't', 't', 't', 't', 't'],\n",
      " 'u': ['u', 'u'],\n",
      " 'v': ['v'],\n",
      " 'y': ['y']}\n"
     ]
    }
   ],
   "source": [
    "import string\n",
    "\n",
    "from pprint import pprint\n",
    "from collections import defaultdict\n",
    "\n",
    "# Texto de ejemplo\n",
    "texto = 'Like the castle in its corner in a medieval game, I foresee terrible \\\n",
    "trouble and I stay here just the same.'\n",
    "# Crear un defaultdict con listas predeterminadas\n",
    "dicc = defaultdict(list)\n",
    "\n",
    "# Iterar sobre el texto\n",
    "for i in texto.lower():  # Convertir a minúsculas para que las letras mayúsculas y minúsculas se cuenten igual\n",
    "    if i in string.ascii_lowercase:  # Verificar si el carácter es una letra\n",
    "        dicc[i].append(i)  # Agregar la letra a la lista correspondiente\n",
    "\n",
    "# Imprimir el diccionario de listas usando pprint\n",
    "pprint(dict(dicc), width=300)  # Convertimos defaultdict a dict para una impresión más limpia"
   ]
  },
  {
   "cell_type": "code",
   "execution_count": 10,
   "metadata": {},
   "outputs": [
    {
     "name": "stdout",
     "output_type": "stream",
     "text": [
      "{'a': ['a', 'a', 'a', 'a', 'a', 'a', 'a'],\n",
      " 'b': ['b', 'b'],\n",
      " 'c': ['c', 'c'],\n",
      " 'd': ['d', 'd'],\n",
      " 'e': ['e', 'e', 'e', 'e', 'e', 'e', 'e', 'e', 'e', 'e', 'e', 'e', 'e', 'e', 'e', 'e', 'e'],\n",
      " 'f': ['f'],\n",
      " 'g': ['g'],\n",
      " 'h': ['h', 'h', 'h'],\n",
      " 'i': ['i', 'i', 'i', 'i', 'i', 'i', 'i', 'i'],\n",
      " 'j': ['j'],\n",
      " 'k': ['k'],\n",
      " 'l': ['l', 'l', 'l', 'l', 'l'],\n",
      " 'm': ['m', 'm', 'm'],\n",
      " 'n': ['n', 'n', 'n', 'n'],\n",
      " 'o': ['o', 'o', 'o'],\n",
      " 'r': ['r', 'r', 'r', 'r', 'r', 'r', 'r'],\n",
      " 's': ['s', 's', 's', 's', 's', 's'],\n",
      " 't': ['t', 't', 't', 't', 't', 't', 't', 't'],\n",
      " 'u': ['u', 'u'],\n",
      " 'v': ['v'],\n",
      " 'y': ['y']}\n"
     ]
    }
   ],
   "source": [
    "from collections import defaultdict\n",
    "import string\n",
    "from pprint import pprint\n",
    "\n",
    "# Texto de ejemplo\n",
    "texto = 'Like the castle in its corner in a medieval game, I foresee terrible \\\n",
    "trouble and I stay here just the same.'\n",
    "# Crear un defaultdict con listas predeterminadas\n",
    "dicc = defaultdict(list)\n",
    "\n",
    "# Iterar sobre el texto\n",
    "for i in texto.lower():  # Convertir a minúsculas para que las letras mayúsculas y minúsculas se cuenten igual\n",
    "    if i in string.ascii_lowercase:  # Verificar si el carácter es una letra\n",
    "        dicc[i].append(i)  # Agregar la letra a la lista correspondiente\n",
    "\n",
    "# Imprimir el diccionario de listas usando pprint\n",
    "pprint(dict(dicc), width=300)  # Convertimos defaultdict a dict para una impresión más limpia\n"
   ]
  },
  {
   "cell_type": "markdown",
   "metadata": {},
   "source": [
    "### ***The Middle***\n",
    "\n",
    "- Rewrite the funny name generator code to include middle names. First, \n",
    "create a new middle_name tuple, then split apart existing first name–middle \n",
    "name pairs (such as “Joe ‘Pottin Soil’” or “Sid ‘The Squirts’”) and add \n",
    "them to the tuple. You should also move some obvious nicknames (like \n",
    "“Oil Can”) to your middle_name tuple. Finally, add some new middle names \n",
    "(such as “The Big News,” or “Grunts,” or “Tinkie Winkie”). Use Python’s \n",
    "random module so that a middle name is chosen only one-half or one-third \n",
    "of the time.\n",
    "\n",
    "- Reescribe el código del generador de nombres divertidos para incluir los segundos nombres. Primero,\n",
    "crea una nueva tupla middle_name, luego separa los pares de nombre-segundo nombre existentes (como “Joe ‘Pottin Soil’” o “Sid ‘The Squirts’”) y agrégalos\n",
    "a la tupla. También debes mover algunos apodos obvios (como\n",
    "“Oil Can”) a tu tupla middle_name. Finalmente, agrega algunos segundos nombres nuevos\n",
    "(como “The Big News”, o “Grunts”, o “Tinkie Winkie”). Usa el módulo\n",
    "random de Python para que se elija un segundo nombre solo la mitad o un tercio\n",
    "de las veces."
   ]
  },
  {
   "cell_type": "code",
   "execution_count": 3,
   "metadata": {},
   "outputs": [],
   "source": [
    "import random"
   ]
  },
  {
   "cell_type": "code",
   "execution_count": 5,
   "metadata": {},
   "outputs": [],
   "source": [
    "first_names = ('Baby Oil', 'Bad News', 'Big Burps', \"Bill\", \"Bob\", 'Bowel Noises', \n",
    "               'Boxelder', \"Bud\", 'Butterbean', 'Buttermilk', 'Buttocks', 'Chad', \n",
    "               'Chesterfield', 'Chewy', 'Chigger', 'Cinnabuns', 'Cleet', 'Cornbread',\n",
    "               'Crab Meat', 'Crapps', 'Dark Skies', 'Dennis', 'Dicman', 'Elphonso',\n",
    "               'Fancypants', 'Figgs', 'Foncy', 'Gootsy', 'Greasy Jim', 'Huckleberry',\n",
    "               'Huggy', 'Ignatious', 'Jimbo', 'Johnny', 'Lemongrass', 'Lil Debil',\n",
    "               'Longbranch', 'Mergatroid', 'Oil-Can', 'Oinks', 'Old Scratch', \n",
    "               'Ovaltine', 'Pennywhistle', 'Pitchfork Ben', 'Potato Bug', 'Pushmeet',\n",
    "               'Rock Candy', 'Schlomo', 'Scratchensniff', 'Scut', 'Skidmark', \n",
    "               'Slaps', 'Snakes', 'Snoobs', 'Snorki', 'Soupcan Sam', 'Spitzitout', \n",
    "               'Squids', 'Stinky', 'Storyboard', 'Sweet Tea', 'TeeTee', 'Wheezy Joe',\n",
    "               \"Winston\", 'Worms')\n",
    "\n",
    "middle_names = (\"'Beenie-Weenie'\", \"'Stinkbug'\", \"'Lite'\", \"'Jazz Hands'\",\n",
    "                \"'Pottin Soil'\", \"'The Squirts'\", 'The Big News', 'Grunts', \n",
    "                'Tinkie Winkie', 'Oil Can', 'Lunch Money', 'Mr Peabody')\n",
    "\n",
    "last_names = ('Smith', 'Jones', 'Brown', 'Johnson', 'Williams', 'Miller', 'Davis',\n",
    "              'Garcia', 'Rodriguez', 'Wilson', 'Martinez', 'Anderson', 'Taylor',\n",
    "              'Thomas', 'Hernandez', 'Moore', 'Martin', 'Jackson', 'Thompson',\n",
    "              'White', 'Lopez', 'Lee', 'Gonzalez', 'Harris', 'Clark', 'Lewis',\n",
    "              'Robinson', 'Walker', 'Perez', 'Hall', 'Young', 'Allen', 'Sanchez',\n",
    "              'Wright', 'King', 'Scott', 'Green', 'Baker', 'Adams', 'Nelson',\n",
    "              'Hill', 'Ramirez', 'Campbell', 'Mitchell', 'Roberts', 'Carter',\n",
    "              'Phillips', 'Evans', 'Turner', 'Torres', 'Parker', 'Collins', 'Edwards')\n",
    "\n",
    "\n"
   ]
  },
  {
   "cell_type": "code",
   "execution_count": 6,
   "metadata": {},
   "outputs": [],
   "source": [
    "def generate_funny_name():\n",
    "    first_name = random.choice(first_names)\n",
    "    last_name = random.choice(last_names)\n",
    "    \n",
    "    # Choose middle name with 50% probability\n",
    "    if random.choice([True, False]):\n",
    "        middle_name = random.choice(middle_names)\n",
    "        full_name = f\"{first_name} {middle_name} {last_name}\"\n",
    "    else:\n",
    "        full_name = f\"{first_name} {last_name}\"\n",
    "    \n",
    "    return full_name\n",
    "\n"
   ]
  },
  {
   "cell_type": "code",
   "execution_count": 8,
   "metadata": {},
   "outputs": [
    {
     "name": "stdout",
     "output_type": "stream",
     "text": [
      "Crab Meat 'Jazz Hands' Thompson\n"
     ]
    }
   ],
   "source": [
    "# Generate a funny name\n",
    "print(generate_funny_name())"
   ]
  }
 ],
 "metadata": {
  "kernelspec": {
   "display_name": "Python 3",
   "language": "python",
   "name": "python3"
  },
  "language_info": {
   "codemirror_mode": {
    "name": "ipython",
    "version": 3
   },
   "file_extension": ".py",
   "mimetype": "text/x-python",
   "name": "python",
   "nbconvert_exporter": "python",
   "pygments_lexer": "ipython3",
   "version": "3.11.6"
  }
 },
 "nbformat": 4,
 "nbformat_minor": 2
}
