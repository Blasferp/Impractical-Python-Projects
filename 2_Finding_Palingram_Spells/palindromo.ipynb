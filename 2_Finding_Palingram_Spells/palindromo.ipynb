{
 "cells": [
  {
   "cell_type": "code",
   "execution_count": 47,
   "metadata": {},
   "outputs": [],
   "source": [
    "file = r'C:\\Users\\Blasferp\\Documents\\GitHub\\Mini-Proyectos-Python\\Impractical Python Projects\\2_Finding_Palingram_Spells\\International\\2of4brif.txt'"
   ]
  },
  {
   "cell_type": "code",
   "execution_count": 48,
   "metadata": {},
   "outputs": [],
   "source": [
    "import sys"
   ]
  },
  {
   "cell_type": "code",
   "execution_count": 49,
   "metadata": {},
   "outputs": [],
   "source": [
    "def load(file):\n",
    "    \"\"\"\n",
    "    Carga el contenido de un archivo de texto y lo procesa en una lista de líneas en minúsculas.\n",
    "\n",
    "    Parámetros:\n",
    "    file (str): La ruta al archivo que se desea cargar.\n",
    "\n",
    "    Retorna:\n",
    "    list: Una lista de cadenas, donde cada cadena es una línea del archivo convertida a minúsculas.\n",
    "\n",
    "    Si ocurre un error al intentar abrir el archivo, la función imprimirá un mensaje de error\n",
    "    y finalizará el programa.\n",
    "\n",
    "    Pasos:\n",
    "    1. Intenta abrir el archivo especificado.\n",
    "    2. Lee el contenido del archivo, lo divide en líneas y elimina los espacios en blanco al principio y al final.\n",
    "    3. Convierte cada línea a minúsculas.\n",
    "    4. Retorna la lista de líneas procesadas.\n",
    "    5. Si ocurre un error de entrada/salida (IOError), imprime un mensaje de error y termina el programa.\n",
    "    \"\"\"\n",
    "    \n",
    "    try:\n",
    "        # Intentar abrir el archivo con la ruta especificada por 'file'\n",
    "        with open(file) as in_file:\n",
    "            # Leer el contenido del archivo, eliminar espacios en blanco y dividirlo en líneas\n",
    "            loaded_txt = in_file.read().strip().split('\\n')\n",
    "            # Convertir cada línea a minúsculas\n",
    "            loaded_txt = [x.lower() for x in loaded_txt]\n",
    "            # Devolver la lista de líneas procesadas\n",
    "            return loaded_txt\n",
    "    \n",
    "    except IOError as e:\n",
    "        # Si ocurre un error al abrir el archivo, imprimir un mensaje de error y finalizar el programa\n",
    "        print(f'{e}\\n Error al abrir {file}. Terminando el programa.', file=sys.stderr)\n",
    "        sys.exit(1)\n"
   ]
  },
  {
   "cell_type": "code",
   "execution_count": 50,
   "metadata": {},
   "outputs": [],
   "source": [
    "lista = load(file)"
   ]
  },
  {
   "cell_type": "markdown",
   "metadata": {},
   "source": [
    "***\n"
   ]
  },
  {
   "cell_type": "markdown",
   "metadata": {},
   "source": [
    "### ***Project #2:***\n",
    "\n",
    "Finding Palindromes"
   ]
  },
  {
   "cell_type": "markdown",
   "metadata": {},
   "source": [
    "**the objective**\n",
    "\n",
    "Use Python to search an English language dictionary file for palindromes"
   ]
  },
  {
   "cell_type": "code",
   "execution_count": 25,
   "metadata": {},
   "outputs": [
    {
     "data": {
      "text/plain": [
       "'nurses'"
      ]
     },
     "execution_count": 25,
     "metadata": {},
     "output_type": "execute_result"
    }
   ],
   "source": [
    "word = 'nurses'\n",
    "word[:]"
   ]
  },
  {
   "cell_type": "code",
   "execution_count": 35,
   "metadata": {},
   "outputs": [
    {
     "data": {
      "text/plain": [
       "'run'"
      ]
     },
     "execution_count": 35,
     "metadata": {},
     "output_type": "execute_result"
    }
   ],
   "source": [
    "word[2::-1]"
   ]
  },
  {
   "cell_type": "markdown",
   "metadata": {},
   "source": [
    "- Load digital dictionary file as a list of words\n",
    "- Create an empty list to hold palindromes\n",
    "- Loop through each word in the word list:\n",
    "-  If word sliced forward is the same as word sliced backward:\n",
    "-  Append word to palindrome list\n",
    "- Print palindrome list\n"
   ]
  },
  {
   "cell_type": "code",
   "execution_count": 51,
   "metadata": {},
   "outputs": [
    {
     "name": "stdout",
     "output_type": "stream",
     "text": [
      "['aha', 'bib', 'bob', 'boob', 'bub', 'civic', 'dad', 'deed', 'deified', 'did', 'dud', 'eke', 'ere', 'eve', 'ewe', 'eye', 'gag', 'gig', 'hah', 'huh', 'kayak', 'kook', 'level', 'madam', 'mam', 'minim', 'mom', 'mum', 'naan', 'nan', 'noon', 'nun', 'pap', 'peep', 'pep', 'pip', 'poop', 'pop', 'pup', 'radar', 'redder', 'refer', 'rotor', 'sagas', 'sees', 'sexes', 'sis', 'solos', 'stats', 'tat', 'tenet', 'tit', 'toot', 'tot', 'tut', 'wow']\n"
     ]
    }
   ],
   "source": [
    "lista_palindromo = []\n",
    "for i in lista:    \n",
    "    if i == i[::-1] and len(i) > 2:\n",
    "        lista_palindromo.append(i)\n",
    "print(lista_palindromo)"
   ]
  }
 ],
 "metadata": {
  "kernelspec": {
   "display_name": "Python 3",
   "language": "python",
   "name": "python3"
  },
  "language_info": {
   "codemirror_mode": {
    "name": "ipython",
    "version": 3
   },
   "file_extension": ".py",
   "mimetype": "text/x-python",
   "name": "python",
   "nbconvert_exporter": "python",
   "pygments_lexer": "ipython3",
   "version": "3.11.6"
  }
 },
 "nbformat": 4,
 "nbformat_minor": 2
}
